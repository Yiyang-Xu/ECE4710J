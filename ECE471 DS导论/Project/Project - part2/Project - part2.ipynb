{
 "cells": [
  {
   "cell_type": "markdown",
   "id": "0e7f35a8",
   "metadata": {},
   "source": [
    "# Project Part II: Predicting Housing Prices - Build Your Own Model\n",
    "\n",
    " "
   ]
  },
  {
   "cell_type": "markdown",
   "id": "edc08363",
   "metadata": {},
   "source": [
    "### Grading Scheme\n",
    "\n",
    "Your grade for the project will be based on your training RMSE and test RMSE. The thresholds are as follows:\n",
    "\n",
    "Points | 9 | 7 | 5 | 3\n",
    "--- | --- | --- | --- | ---\n",
    "Training RMSE | Less than 60k | [60k, 120k) | [120k, 200k) | More than 230k\n",
    "\n",
    "Points | 9 | 7 | 5 | 3\n",
    "--- | --- | --- | --- | ---\n",
    "Test RMSE | Less than 65k | [65k, 130k) | [130k, 230k) | More than 230k\n",
    "\n",
    "The top 20% of the submissions with the least testing errors will receive the additional two points\n"
   ]
  },
  {
   "cell_type": "code",
   "execution_count": 1,
   "id": "12a7de41",
   "metadata": {},
   "outputs": [],
   "source": [
    "# Some Imports You Might Need\n",
    "import numpy as np\n",
    "import pandas as pd\n",
    "from pandas.api.types import CategoricalDtype\n",
    "\n",
    "%matplotlib inline\n",
    "import matplotlib.pyplot as plt\n",
    "import seaborn as sns\n",
    "\n",
    "import warnings\n",
    "warnings.filterwarnings(\"ignore\")\n",
    "\n",
    "import zipfile\n",
    "import os\n",
    "import re\n",
    "\n",
    "from sklearn.preprocessing import OneHotEncoder\n",
    "from sklearn import linear_model as lm\n",
    "from sklearn import ensemble\n",
    "\n",
    "# Plot settings\n",
    "plt.rcParams['figure.figsize'] = (12, 9)\n",
    "plt.rcParams['font.size'] = 12\n",
    "\n",
    "# Extract Dataset\n",
    "with zipfile.ZipFile('cook_county_contest_data.zip') as item:\n",
    "    item.extractall()\n",
    "    \n",
    "    \n",
    "### Note: we filtered the data in cook_county_contest_data, \n",
    "####so please use this dataset instead of the old one."
   ]
  },
  {
   "cell_type": "markdown",
   "id": "ee4ef0e5",
   "metadata": {},
   "source": [
    "### Note\n",
    "\n",
    "This notebook is specifically designed to guide you through the process of exporting your model's predictions on the test dataset for submission so you can see how your model performs.\n",
    "\n",
    "Most of what you have done in project part I should be transferrable here. "
   ]
  },
  {
   "cell_type": "markdown",
   "id": "56dffa7f",
   "metadata": {},
   "source": [
    "## Step 1. Set up all the helper functions for your `process_data_fm` function.\n",
    "\n",
    "**Copy-paste all of the helper functions your `process_data_fm` need here in the following cell**. You **do not** have to fill out all of the functions in the cell below -- only fill out those that are actually useful to your feature engineering pipeline."
   ]
  },
  {
   "cell_type": "code",
   "execution_count": 2,
   "id": "fb3694bb",
   "metadata": {},
   "outputs": [],
   "source": [
    "from sklearn.preprocessing import OneHotEncoder\n",
    "\n",
    "def add_total_bedrooms(data):\n",
    "    \"\"\"\n",
    "    Input:\n",
    "      data (data frame): a data frame containing at least the Description column.\n",
    "    \"\"\"\n",
    "    with_rooms = data.copy()\n",
    "    pattern = r'(\\d+)(.\\d+)? of which (are|is) (bedrooms|bedroom)'\n",
    "    with_rooms['Bedrooms'] = with_rooms['Description'].apply(lambda x: int(re.findall(pattern, x)[0][0]) if len(re.findall(pattern, x))>0 else np.nan)\n",
    "    with_rooms.fillna(0)\n",
    "    return with_rooms\n",
    "\n",
    "def ohe_roof_material(data):\n",
    "    \"\"\"\n",
    "    One-hot-encodes roof material.  New columns are of the form 0x_QUALITY.\n",
    "    \"\"\"\n",
    "    ohe = OneHotEncoder()\n",
    "    new_columns = pd.DataFrame(data=ohe.fit_transform(data[['Roof Material']]).todense(), \n",
    "                              columns=ohe.get_feature_names(),\n",
    "                             index = data.index)\n",
    "    return data.join(new_columns)\n",
    "\n",
    "def substitute_roof_material(data):\n",
    "    \"\"\"\n",
    "    Input:\n",
    "      data (data frame): a data frame containing a 'Roof Material' column.  Its values\n",
    "                         should be limited to those found in the codebook\n",
    "    Output:\n",
    "      data frame identical to the input except with a refactored 'Roof Material' column\n",
    "    \"\"\"\n",
    "    dictionary = {1:'Shingle/Asphalt', 2:'Tar&Gravel', 3:'Slate', 4:'Shake', 5:'Tile', 6:'Other'}\n",
    "    data['Roof Material'] = data['Roof Material'].replace(dictionary)\n",
    "    return data\n",
    "  \n",
    "def process_data_gm(data, pipeline_functions, prediction_col):\n",
    "    \"\"\"Process the data for a guided model.\"\"\"\n",
    "    for function, arguments, keyword_arguments in pipeline_functions:\n",
    "        if keyword_arguments and (not arguments):\n",
    "            data = data.pipe(function, **keyword_arguments)\n",
    "        elif (not keyword_arguments) and (arguments):\n",
    "            data = data.pipe(function, *arguments)\n",
    "        else:\n",
    "            data = data.pipe(function)\n",
    "    X = data.drop(columns=[prediction_col]).to_numpy()\n",
    "    y = data.loc[:, prediction_col].to_numpy()\n",
    "    return X, y\n",
    "\n",
    "def add_in_expensive_neighborhood(data, neighborhoods):\n",
    "    \"\"\"\n",
    "    Input:\n",
    "      data (data frame): a data frame containing a 'Neighborhood Code' column with values\n",
    "        found in the codebook\n",
    "      neighborhoods (list of strings): strings should be the names of neighborhoods\n",
    "        pre-identified as rich\n",
    "    Output:\n",
    "      data frame identical to the input with the addition of a binary\n",
    "      in_rich_neighborhood column\n",
    "    \"\"\"\n",
    "    data['in_expensive_neighborhood'] = data['Neighborhood Code'].isin(neighborhoods).astype(int)\n",
    "    return data\n",
    "\n",
    "def find_expensive_neighborhoods(data, n=3, metric=np.median):\n",
    "    \"\"\"\n",
    "    Input:\n",
    "      data (data frame): should contain at least a string-valued Neighborhood\n",
    "        and a numeric 'Sale Price' column\n",
    "      n (int): the number of top values desired\n",
    "      metric (function): function used for aggregating the data in each neighborhood.\n",
    "        for example, np.median for median prices\n",
    "    \n",
    "    Output:\n",
    "      a list of the top n richest neighborhoods as measured by the metric function\n",
    "    \"\"\"\n",
    "    neighborhoods = data.groupby('Neighborhood Code').agg({'Log Sale Price':metric}).sort_values('Log Sale Price',ascending=False).head(n).index\n",
    "    \n",
    "    # This makes sure the final list contains the generic int type used in Python3, not specific ones used in numpy.\n",
    "    return [int(code) for code in neighborhoods]\n",
    "\n",
    "def select_columns(data, *columns):\n",
    "    \"\"\"Select only columns passed as arguments.\"\"\"\n",
    "    return data.loc[:, columns]"
   ]
  },
  {
   "cell_type": "markdown",
   "id": "0e7e945c",
   "metadata": {},
   "source": [
    "## Step 2. Setup your `process_data_fm` function\n",
    "\n",
    "**Create your implementation of `process_data_fm` from into the following cell.**\n",
    "\n",
    "Here are a few additional things **you should check and change to make sure your `process_data_fm` function satisfies**:\n",
    "- Unlike part 1, we will not be expecting your `process_data_fm` function to return both the design matrix `X` and the observed target vector `y`; your function should now **only return X**.\n"
   ]
  },
  {
   "cell_type": "code",
   "execution_count": 3,
   "id": "fa862a1b",
   "metadata": {},
   "outputs": [],
   "source": [
    "# Please include all of your feature engineering process inside this function.\n",
    "# Do not modify the parameters of the function below. \n",
    "# Note that data will no longer have the column Sale Price in it directly, so plan your feature engineering process around that.\n",
    "def process_data_fm(data):\n",
    "    # Replace the following line with your own feature engineering pipeline\n",
    "    X = data\n",
    "    X['Log Building Square Feet'] = np.log(X['Building Square Feet'])\n",
    "    X = add_total_bedrooms(X)\n",
    "    X = substitute_roof_material(X)\n",
    "    X = ohe_roof_material(X)\n",
    "    X = select_columns(X, 'Bedrooms', 'Log Building Square Feet', 'x0_Other', 'x0_Shake', 'x0_Shingle/Asphalt', 'x0_Slate', 'x0_Tar&Gravel', 'x0_Tile')\n",
    "    return X"
   ]
  },
  {
   "cell_type": "code",
   "execution_count": null,
   "id": "7a66905c",
   "metadata": {},
   "outputs": [],
   "source": []
  },
  {
   "cell_type": "markdown",
   "id": "986ffda7",
   "metadata": {},
   "source": [
    "## Step 3. Train your model\n",
    "\n",
    "Run the following cell to import the new set of training data to fit your model on. **You can use any regression model, the following is just an example** If your `process_data_fm` satisfies all the specified requirements, the cell should run without any error.\n",
    "\n",
    "**As usual**, your model will predict the log-transformed sale price, and our grading will transform your predictions back to the normal vlaues."
   ]
  },
  {
   "cell_type": "code",
   "execution_count": 4,
   "id": "15ad8c65",
   "metadata": {},
   "outputs": [],
   "source": [
    "def rmse(predicted, actual):\n",
    "    \"\"\"\n",
    "    Calculates RMSE from actual and predicted values\n",
    "    Input:\n",
    "      predicted (1D array): vector of predicted/fitted values\n",
    "      actual (1D array): vector of actual values\n",
    "    Output:\n",
    "      a float, the root-mean square error\n",
    "    \"\"\"\n",
    "    return np.sqrt(np.mean((actual - predicted)**2))"
   ]
  },
  {
   "cell_type": "code",
   "execution_count": 5,
   "id": "ca3b717e",
   "metadata": {},
   "outputs": [],
   "source": [
    "train_data = pd.read_csv('cook_county_contest_train.csv', index_col='Unnamed: 0')\n",
    "y_train = np.log(train_data['Sale Price'])\n",
    "train_data = train_data.drop(columns=['Sale Price'])\n",
    "X_train = process_data_fm(train_data)\n",
    "model = ensemble.RandomForestRegressor(n_estimators=1000)\n",
    "###You can use other models\n",
    "model.fit(X_train, y_train);"
   ]
  },
  {
   "cell_type": "markdown",
   "id": "0fe72571",
   "metadata": {},
   "source": [
    "## Step 4. Make Predictions on the Test Dataset\n",
    "\n",
    "Run the following cell to estimate the sale price on the test dataset and export your model's predictions as a csv file called `predictions.csv`."
   ]
  },
  {
   "cell_type": "code",
   "execution_count": 6,
   "id": "9c1f7915",
   "metadata": {},
   "outputs": [
    {
     "name": "stdout",
     "output_type": "stream",
     "text": [
      "Your predictions have been exported as predictions.csv. Please download the file and submit it to Canvas. \n"
     ]
    }
   ],
   "source": [
    "test_data = pd.read_csv('cook_county_contest_test.csv', index_col='Unnamed: 0')\n",
    "X_test = process_data_fm(test_data)\n",
    "y_test_predicted = model.predict(X_test)\n",
    "predictions = pd.DataFrame({'Sale Price': y_test_predicted})\n",
    "predictions.to_csv('predictions.csv')\n",
    "print('Your predictions have been exported as predictions.csv. Please download the file and submit it to Canvas. ')"
   ]
  }
 ],
 "metadata": {
  "hide_input": false,
  "kernelspec": {
   "display_name": "Python 3",
   "language": "python",
   "name": "python3"
  },
  "language_info": {
   "codemirror_mode": {
    "name": "ipython",
    "version": 3
   },
   "file_extension": ".py",
   "mimetype": "text/x-python",
   "name": "python",
   "nbconvert_exporter": "python",
   "pygments_lexer": "ipython3",
   "version": "3.8.8"
  }
 },
 "nbformat": 4,
 "nbformat_minor": 5
}
